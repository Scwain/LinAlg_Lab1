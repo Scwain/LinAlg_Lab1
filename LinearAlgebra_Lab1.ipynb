{
 "cells": [
  {
   "cell_type": "markdown",
   "metadata": {},
   "source": [
    " Linear Algebra (CpE210A)\n",
    " \n",
    " Laboratory 1: Gettiing acquainted with Python\n",
    " \n",
    "Coded and submitted by: \n",
    "Panelo, Bryan V.\n",
    "(58011)"
   ]
  },
  {
   "cell_type": "markdown",
   "metadata": {},
   "source": [
    "'''\n",
    "GRADED CELL 1 (50 points)\n",
    "Try to replicate the output shown below using the variables below.\n",
    "Note: Shorter the code higher the points!\n",
    "\n",
    "Score Matrix:\n",
    "Working        |Lines        |Points\n",
    "Yes            |3 or less    |100%\n",
    "Yes            |4 or more    |90%\n",
    "No             |1 or more    |70%\n",
    "No             |0            |0%\n",
    "\n",
    "Pro score: 1 line. --> +5 points (+10 with explanation)\n",
    "'''\n",
    "party = ['Charmander', 'Pidgey', 'Sandshrew', 'Rattata', 'Abra']\n",
    "levels = [15, 11, 18, 5, 14]"
   ]
  },
  {
   "cell_type": "code",
   "execution_count": 12,
   "metadata": {},
   "outputs": [
    {
     "name": "stdout",
     "output_type": "stream",
     "text": [
      "Charmander at levels 15\n",
      "Pidgey at levels 11\n",
      "Sandshrew at levels 18\n",
      "Rattata at levels 5\n",
      "Abra at levels 14\n"
     ]
    }
   ],
   "source": [
    "party = ['Charmander', 'Pidgey', 'Sandshrew', 'Rattata', 'Abra']; levels = [15, 11, 18, 5, 14]\n",
    "print(party[0], 'at levels', levels[0])\n",
    "print(party[1], 'at levels', levels[1])\n",
    "print(party[2], 'at levels', levels[2])\n",
    "print(party[3], 'at levels', levels[3])\n",
    "print(party[4], 'at levels', levels[4])"
   ]
  },
  {
   "cell_type": "markdown",
   "metadata": {},
   "source": [
    "'''\n",
    "GRADED CELL 2 (10 points)\n",
    "Problem 1: You are missing 1 more pokémon to complete your team. Listed below are your reserves.\n",
    "Identify the top 3  highest or lowest level pokémon and store them in a variable 'picks'. (Choose only one path)\n",
    "\n",
    "Score Matrix:\n",
    "Working        |Lines         |Points\n",
    "Yes            |20 or less    |100%\n",
    "Yes            |21 or more    |90%\n",
    "No             |1 or more     |70%\n",
    "No             |0             |0%\n",
    "\n",
    "Pro score: 1 line --> +30 points (+50 with explanation)\n",
    "Tip: try to search about sort(), sorted(), and append().\n",
    "'''\n",
    "reserves = [\n",
    "    ('Onix',10),\n",
    "    ('Slowpoke',18),\n",
    "    ('Dialga', 2),\n",
    "    ('Magikarp', 32),\n",
    "    ('Feebas', 22),\n",
    "    ('Swablu', 19),\n",
    "    ('Regigigas', 3),\n",
    "    ('Unown', 50)\n",
    "]"
   ]
  },
  {
   "cell_type": "code",
   "execution_count": 5,
   "metadata": {},
   "outputs": [
    {
     "data": {
      "text/plain": [
       "\"['Unown','Magikarp','Feebas']\""
      ]
     },
     "execution_count": 5,
     "metadata": {},
     "output_type": "execute_result"
    }
   ],
   "source": [
    "reserves = [('Onix',10),\n",
    "            ('Slowpoke',18),\n",
    "            ('Dialga', 2),\n",
    "            ('Magikarp', 32),\n",
    "            ('Feebas', 22),\n",
    "            ('Swablu', 19),\n",
    "            ('Regigigas', 3),\n",
    "            ('Unown', 50) ]\n",
    "picks = lambda reserves: reserves[1]\n",
    "reserves.sort(key=picks, reverse=False)\n",
    "print\n",
    "(\"['\"+str(reserves[-1][0])+ \"','\" + str(reserves[-2][0])+\"','\"+ str(reserves[-3][0])+\"']\")\n"
   ]
  },
  {
   "cell_type": "markdown",
   "metadata": {},
   "source": [
    "'''\n",
    "GRADED CELL 3 (40 points)\n",
    "Create a function named \"create_party\" that will add the chosen pokémon from graded cell 3 to the party from graded cell 1.\n",
    "The function should display all the possible parties while keeping the original members of the party.\n",
    "Note: A party should only have 6 pokémon.\n",
    "\n",
    "Score Matrix:\n",
    "Working        |Lines         |Points\n",
    "Yes            |20 or less    |100% \n",
    "Yes            |21 or more    |90%\n",
    "No             |1 or more     |70%\n",
    "No             |0             |0%\n",
    "\n",
    "Pro score: 1 line --> +30 points (+50 with explanation)\n",
    "Tip: try to search about sort(), sorted(), and append().\n",
    "'''\n",
    "def create_party(party, candidates):\n",
    "    return suggested_parties\n",
    "'\\nGRADED CELL 3 (40 points)\\nCreate a function named \"create_party\" that will add the chosen pokémon from graded cell 3 to the party from graded cell 1.\\nThe function should display all the possible parties while keeping the original members of the party.\\nNote: A party should only have 6 pokémon.\\n'"
   ]
  },
  {
   "cell_type": "code",
   "execution_count": 15,
   "metadata": {},
   "outputs": [
    {
     "name": "stdout",
     "output_type": "stream",
     "text": [
      "Sample parties at highest level\n",
      "\n",
      "['Charmander','Pidgey', 'Sandshrew', 'Rattata', 'Abra', 'Unown']\n",
      "['Charmander','Pidgey', 'Sandshrew', 'Rattata', 'Abra', 'Magikarp']\n",
      "['Charmander','Pidgey', 'Sandshrew', 'Rattata', 'Abra', 'Feebas']\n"
     ]
    }
   ],
   "source": [
    "def create_party(party, candidates):\n",
    "    print(\"Sample parties at highest level\\n\")\n",
    "    print(\"['\"+party[0]+\"','\"+party[1]+\"', '\"+party[2]+\"', '\"+party[3]+\"', '\"+party[4]+\"', '\"+candidates[-1][0]+\"']\")\n",
    "    print(\"['\"+party[0]+\"','\"+party[1]+\"', '\"+party[2]+\"', '\"+party[3]+\"', '\"+party[4]+\"', '\"+candidates[-2][0]+\"']\")\n",
    "    print(\"['\"+party[0]+\"','\"+party[1]+\"', '\"+party[2]+\"', '\"+party[3]+\"', '\"+party[4]+\"', '\"+candidates[-3][0]+\"']\")\n",
    "candidates = reserves\n",
    "create_party(party, candidates)"
   ]
  }
 ],
 "metadata": {
  "kernelspec": {
   "display_name": "Python 3",
   "language": "python",
   "name": "python3"
  },
  "language_info": {
   "codemirror_mode": {
    "name": "ipython",
    "version": 3
   },
   "file_extension": ".py",
   "mimetype": "text/x-python",
   "name": "python",
   "nbconvert_exporter": "python",
   "pygments_lexer": "ipython3",
   "version": "3.8.3"
  }
 },
 "nbformat": 4,
 "nbformat_minor": 4
}
